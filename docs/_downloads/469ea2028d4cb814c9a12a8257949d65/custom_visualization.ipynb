{
  "cells": [
    {
      "cell_type": "code",
      "execution_count": null,
      "metadata": {
        "collapsed": false
      },
      "outputs": [],
      "source": [
        "%matplotlib inline\nfrom pyvista import set_plot_theme\nset_plot_theme('document')"
      ]
    },
    {
      "cell_type": "markdown",
      "metadata": {},
      "source": [
        "# Custom Scalar Visualization {#ref_custom_visualization}\r\n\r\nDisplay custom scalars using an existing mesh.\r\n"
      ]
    },
    {
      "cell_type": "code",
      "execution_count": null,
      "metadata": {
        "collapsed": false
      },
      "outputs": [],
      "source": [
        "import numpy as np\n\nfrom ansys.mapdl.reader import examples\n\n# Download an example shaft modal analysis result file\nshaft = examples.download_shaft_modal()"
      ]
    },
    {
      "cell_type": "markdown",
      "metadata": {},
      "source": [
        "Each result file contains both a `mesh` property and a `grid` property.\r\nThe `mesh` property can be through as the MAPDL representation of the\r\nFEM while the `grid` property can be through of the Python visualizing\r\nproperty used to plot within Python.\r\n"
      ]
    },
    {
      "cell_type": "code",
      "execution_count": null,
      "metadata": {
        "collapsed": false
      },
      "outputs": [],
      "source": [
        "print(\"shaft.mesh:\\n\", shaft.mesh)\nprint(\"-\" * 79)\nprint(\"shaft.grid:\\n\", shaft.grid)"
      ]
    },
    {
      "cell_type": "markdown",
      "metadata": {},
      "source": [
        "# Plotting\r\n\r\nThe grid instance is a `pyvista.UnstructuredGrid`{.interpreted-text\r\nrole=\"class\"} part of the [pyvista](https://docs.pyvista.org/) library.\r\nThis class allows for advanced plotting using VTK in just a few lines of\r\ncode. For example, you can plot the underlying mesh with:\r\n"
      ]
    },
    {
      "cell_type": "code",
      "execution_count": null,
      "metadata": {
        "collapsed": false
      },
      "outputs": [],
      "source": [
        "shaft.grid.plot(color=\"w\", smooth_shading=True)"
      ]
    },
    {
      "cell_type": "markdown",
      "metadata": {},
      "source": [
        "# Plotting Node Scalars\r\n\r\nIf you point-wise or cell-wise scalars (nodes and elements in FEA), you\r\ncan plot these scalars by setting the `scalars=` parameter. Here, I\\'m\r\nsimply using the x location of the nodes to color the mesh.\r\n\r\nIt follows that you can use any set of scalars provided that it matches\r\nthe number of nodes in the unstructured grid or the number of cells in\r\nthe unstructured grid. Here, we\\'re plotting node values.\r\n"
      ]
    },
    {
      "cell_type": "code",
      "execution_count": null,
      "metadata": {
        "collapsed": false
      },
      "outputs": [],
      "source": [
        "x_scalars = shaft.grid.points[:, 0]\nshaft.grid.plot(scalars=x_scalars, smooth_shading=True)"
      ]
    },
    {
      "cell_type": "markdown",
      "metadata": {},
      "source": [
        "# Plotting With Missing Values\r\n\r\nIf you do not have values for every node (for example, the midside\r\nnodes), you can leave these values as NAN and the plotter will take care\r\nof plotting only the real values.\r\n\r\nFor example, if you have calculated strain scalars that are only\r\navailable at certain nodes, you can still plot those. This example just\r\nnulls out the first 2000 nodes to be able to visualize the missing\r\nvalues. If your are just missing midside values, your plot will not show\r\nthe missing values since [pyvista]{.title-ref} only plots the edge\r\nnodes.\r\n"
      ]
    },
    {
      "cell_type": "code",
      "execution_count": null,
      "metadata": {
        "collapsed": false
      },
      "outputs": [],
      "source": [
        "pontoon = examples.download_pontoon()\nnnum, strain = pontoon.nodal_elastic_strain(0)\n\nscalars = strain[:, 0]\nscalars[:2000] = np.nan  # here, we simulate unknown values\n\npontoon.grid.plot(scalars=scalars, show_edges=True, lighting=False)"
      ]
    }
  ],
  "metadata": {
    "kernelspec": {
      "display_name": "Python 3",
      "language": "python",
      "name": "python3"
    },
    "language_info": {
      "codemirror_mode": {
        "name": "ipython",
        "version": 3
      },
      "file_extension": ".py",
      "mimetype": "text/x-python",
      "name": "python",
      "nbconvert_exporter": "python",
      "pygments_lexer": "ipython3",
      "version": "3.10.1"
    }
  },
  "nbformat": 4,
  "nbformat_minor": 0
}