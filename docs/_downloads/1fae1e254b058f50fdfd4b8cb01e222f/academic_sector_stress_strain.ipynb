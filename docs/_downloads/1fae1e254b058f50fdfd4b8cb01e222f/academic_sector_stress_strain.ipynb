{
  "cells": [
    {
      "cell_type": "code",
      "execution_count": null,
      "metadata": {
        "collapsed": false
      },
      "outputs": [],
      "source": [
        "%matplotlib inline\nfrom pyvista import set_plot_theme\nset_plot_theme('document')"
      ]
    },
    {
      "cell_type": "markdown",
      "metadata": {},
      "source": [
        "# Stress and Strain from a Cyclic Modal Analysis {#ref_academic_sector_stress_strain}\r\n\r\nThis example shows how to extract strain and stress from a cyclic modal\r\nanalysis.\r\n"
      ]
    },
    {
      "cell_type": "code",
      "execution_count": null,
      "metadata": {
        "collapsed": false
      },
      "outputs": [],
      "source": [
        "# sphinx_gallery_thumbnail_number = 2\nfrom ansys.mapdl.reader import examples"
      ]
    },
    {
      "cell_type": "markdown",
      "metadata": {},
      "source": [
        "Download the academic modal analysis file\r\n"
      ]
    },
    {
      "cell_type": "code",
      "execution_count": null,
      "metadata": {
        "collapsed": false
      },
      "outputs": [],
      "source": [
        "rotor = examples.download_academic_rotor_result()\nprint(rotor)"
      ]
    },
    {
      "cell_type": "markdown",
      "metadata": {},
      "source": [
        "Plot nodal displacement for result `(2, 2)`, which corresponds to the\r\nload step and sub step in fortran indexing. You could have also used the\r\npython cumulative index 3. rotor.\\_positive_cyclic_dir = True\r\n"
      ]
    },
    {
      "cell_type": "code",
      "execution_count": null,
      "metadata": {
        "collapsed": false
      },
      "outputs": [],
      "source": [
        "_ = rotor.plot_nodal_displacement((2, 2), \"x\", cpos=\"xy\")"
      ]
    },
    {
      "cell_type": "markdown",
      "metadata": {},
      "source": [
        "Extract the nodal elastic strain for the fourth cumulative result.\r\nBecause pymapdl-reader uses zero based indexing, we have to input \\\"3\\\"\r\nhere.\r\n\r\nDepending on the version of ANSYS, MAPDL either does or does not write\r\nthe duplicate sector for a result. If MAPDL does not write a duplicate\r\nsector, pymapdl-reader will search for a duplicate mode and use that as\r\nthe duplicate sector in order to be able to expand to the full rotor.\r\nRegardless of if there is or isn\\'t a duplicate sector, only the master\r\nsector will be output.\r\n\r\n::: warning\r\n::: title\r\nWarning\r\n:::\r\n\r\nCyclic results extracted from pymapdl-reader may disagree with MAPDL due\r\nto several issues/variations when extracting cyclic results within MAPDL\r\nusing `PowerGraphics`. By default, MAPDL uses `\\EDGE,,,45`, which\r\ndisables averaging across surface features that exceed 45 degrees, but\r\nonly writes one value when outputting with `PRNSOL`. On the other hand\r\n`pymapdl-reader` always averages, so you will see differences between\r\nMAPDL and `pymapdl-reader` in these cases.\r\n:::\r\n"
      ]
    },
    {
      "cell_type": "code",
      "execution_count": null,
      "metadata": {
        "collapsed": false
      },
      "outputs": [],
      "source": [
        "nnum, strain = rotor.nodal_elastic_strain(3, full_rotor=True)"
      ]
    },
    {
      "cell_type": "markdown",
      "metadata": {},
      "source": [
        "Plot the nodal elastic strain in the \\\"Z\\\" direction for result\r\n`(5, 2)`.\r\n\r\n`pymapdl-reader` can plot the displacements while also plotting the\r\nstress/strain. Since modal results may or may not be normalized, you\r\nwill have to adjust the `displacement_factor` to scale up or down the\r\ndisplacement to get a reasonable looking result. Disable plotting the\r\ndisplacement by setting `show_displacement=False`.\r\n\r\nAdditionally, you can also save screenshots by setting `screenshot` to a\r\nfilename with `screenshot='elastic_strain.png'`. If you wish to do this\r\nwithout manually closing the plotting screen, set `off_screen=True`.\r\nThis can help you automate saving screenshots.\r\n"
      ]
    },
    {
      "cell_type": "code",
      "execution_count": null,
      "metadata": {
        "collapsed": false
      },
      "outputs": [],
      "source": [
        "_ = rotor.plot_nodal_elastic_strain(\n    (5, 2), \"Z\", show_displacement=True, displacement_factor=0.01\n)"
      ]
    },
    {
      "cell_type": "markdown",
      "metadata": {},
      "source": [
        "Plot the nodal elastic stress in the \\\"Z\\\" direction for this rotor.\r\nSince this is plotting the other pair of modes for the 5th loadstep, the\r\ndisplacement of this response is 90 degrees out of phase of result\r\n`(5, 2)`\r\n\r\nAvailable stress components are `['Y', 'Z', 'XY', 'YZ', 'XZ']`\r\n"
      ]
    },
    {
      "cell_type": "code",
      "execution_count": null,
      "metadata": {
        "collapsed": false
      },
      "outputs": [],
      "source": [
        "_ = rotor.plot_nodal_stress(\n    (5, 1), \"Z\", show_displacement=True, displacement_factor=0.01\n)"
      ]
    },
    {
      "cell_type": "markdown",
      "metadata": {},
      "source": [
        "You can also plot the nodal von mises principal stress. This plot shows\r\nthe principal stress for result `(5, 2)`.\r\n\r\nAvailable stress components are `['S1', 'S2', 'S3', 'SINT', 'SEQV']`.\r\n"
      ]
    },
    {
      "cell_type": "code",
      "execution_count": null,
      "metadata": {
        "collapsed": false
      },
      "outputs": [],
      "source": [
        "_ = rotor.plot_principal_nodal_stress(\n    (5, 2), \"SEQV\", show_displacement=True, displacement_factor=0.01\n)"
      ]
    }
  ],
  "metadata": {
    "kernelspec": {
      "display_name": "Python 3",
      "language": "python",
      "name": "python3"
    },
    "language_info": {
      "codemirror_mode": {
        "name": "ipython",
        "version": 3
      },
      "file_extension": ".py",
      "mimetype": "text/x-python",
      "name": "python",
      "nbconvert_exporter": "python",
      "pygments_lexer": "ipython3",
      "version": "3.10.1"
    }
  },
  "nbformat": 4,
  "nbformat_minor": 0
}